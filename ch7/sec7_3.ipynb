{
 "cells": [
  {
   "cell_type": "markdown",
   "metadata": {},
   "source": [
    "# **第7章 商品推薦のための興味のスコアリング**"
   ]
  },
  {
   "cell_type": "markdown",
   "metadata": {},
   "source": [
    "### **7.3 データ分析**"
   ]
  },
  {
   "cell_type": "markdown",
   "metadata": {},
   "source": [
    "### ①本節の目的"
   ]
  },
  {
   "cell_type": "markdown",
   "metadata": {},
   "source": [
    "与えられたデータ(access_log.csv)からユーザーが以下の二つを満たしていることを検証する. \n",
    "- **Recency に関する単調性** : ユーザーは最近閲覧した商品ほど興味がある\n",
    "- **Frequency に関する単調性** : ユーザーは何度も閲覧した商品ほど興味がある\n",
    "\n",
    "例えば, 以下のように「商品がいつ, 何回閲覧されたか」を示すデータがあると, 8/1〜8/3の閲覧履歴をもとに, 8/4の再閲覧率を推定できる. \n",
    "| 商品\\日付 | 8/1 | 8/2 | 8/3 | 8/4 |\n",
    "| -------- | --- | --- | --- | --- |\n",
    "| item1 | 1 | 3 | 2 | 1 |\n",
    "| item2 |  | 2 |  |  |\n",
    "| item3 |  |  | 2 | 1 |\n",
    "| item4 |  |  | 1 |  |\n",
    "\n",
    "閲覧履歴をもとに, 基準日での再閲覧率を推定するために必要な情報\n",
    "- **user_id** : ユーザーID\n",
    "- **item_id** : 商品ID\n",
    "- **freq** : ユーザーが商品を閲覧した総数\n",
    "- **rcen** : ユーザーが最後に商品を見た日から基準日までの経過日数\n",
    "- **pv_flag** : 再閲覧フラグ(基準日に閲覧していたら1, いなかったら0)"
   ]
  },
  {
   "cell_type": "markdown",
   "metadata": {},
   "source": [
    "### ②データの概要"
   ]
  },
  {
   "cell_type": "code",
   "execution_count": 27,
   "metadata": {},
   "outputs": [
    {
     "name": "stdout",
     "output_type": "stream",
     "text": [
      "325908\n"
     ]
    },
    {
     "data": {
      "text/html": [
       "<div>\n",
       "<style scoped>\n",
       "    .dataframe tbody tr th:only-of-type {\n",
       "        vertical-align: middle;\n",
       "    }\n",
       "\n",
       "    .dataframe tbody tr th {\n",
       "        vertical-align: top;\n",
       "    }\n",
       "\n",
       "    .dataframe thead th {\n",
       "        text-align: right;\n",
       "    }\n",
       "</style>\n",
       "<table border=\"1\" class=\"dataframe\">\n",
       "  <thead>\n",
       "    <tr style=\"text-align: right;\">\n",
       "      <th></th>\n",
       "      <th>user_id</th>\n",
       "      <th>item_id</th>\n",
       "      <th>date</th>\n",
       "    </tr>\n",
       "  </thead>\n",
       "  <tbody>\n",
       "    <tr>\n",
       "      <th>0</th>\n",
       "      <td>4</td>\n",
       "      <td>205587</td>\n",
       "      <td>2015-07-04</td>\n",
       "    </tr>\n",
       "    <tr>\n",
       "      <th>1</th>\n",
       "      <td>4</td>\n",
       "      <td>748683</td>\n",
       "      <td>2015-07-04</td>\n",
       "    </tr>\n",
       "    <tr>\n",
       "      <th>2</th>\n",
       "      <td>4</td>\n",
       "      <td>790055</td>\n",
       "      <td>2015-07-04</td>\n",
       "    </tr>\n",
       "    <tr>\n",
       "      <th>3</th>\n",
       "      <td>4</td>\n",
       "      <td>790055</td>\n",
       "      <td>2015-07-04</td>\n",
       "    </tr>\n",
       "    <tr>\n",
       "      <th>4</th>\n",
       "      <td>4</td>\n",
       "      <td>764638</td>\n",
       "      <td>2015-07-04</td>\n",
       "    </tr>\n",
       "  </tbody>\n",
       "</table>\n",
       "</div>"
      ],
      "text/plain": [
       "   user_id  item_id       date\n",
       "0        4   205587 2015-07-04\n",
       "1        4   748683 2015-07-04\n",
       "2        4   790055 2015-07-04\n",
       "3        4   790055 2015-07-04\n",
       "4        4   764638 2015-07-04"
      ]
     },
     "execution_count": 27,
     "metadata": {},
     "output_type": "execute_result"
    }
   ],
   "source": [
    "import pandas as pd\n",
    "\n",
    "# access_log.csvより閲覧履歴を取り込む\n",
    "log_df = pd.read_csv('access_log.csv', parse_dates=['date'])\n",
    "print(len(log_df))\n",
    "log_df.head()"
   ]
  },
  {
   "cell_type": "code",
   "execution_count": 28,
   "metadata": {},
   "outputs": [
    {
     "data": {
      "text/plain": [
       "count    31443.000000\n",
       "mean        10.365042\n",
       "std         16.023399\n",
       "min          2.000000\n",
       "25%          3.000000\n",
       "50%          5.000000\n",
       "75%         11.000000\n",
       "max        632.000000\n",
       "Name: count, dtype: float64"
      ]
     },
     "execution_count": 28,
     "metadata": {},
     "output_type": "execute_result"
    }
   ],
   "source": [
    "# ユーザーID(user_id)の統計値を確認する\n",
    "log_df['user_id'].value_counts().describe()"
   ]
  },
  {
   "cell_type": "code",
   "execution_count": 29,
   "metadata": {},
   "outputs": [
    {
     "data": {
      "text/plain": [
       "count    87611.000000\n",
       "mean         3.719944\n",
       "std          8.802572\n",
       "min          1.000000\n",
       "25%          1.000000\n",
       "50%          2.000000\n",
       "75%          3.000000\n",
       "max        941.000000\n",
       "Name: count, dtype: float64"
      ]
     },
     "execution_count": 29,
     "metadata": {},
     "output_type": "execute_result"
    }
   ],
   "source": [
    "# 商品ID(item_id)の統計値を確認する\n",
    "log_df['item_id'].value_counts().describe()"
   ]
  },
  {
   "cell_type": "code",
   "execution_count": 30,
   "metadata": {},
   "outputs": [
    {
     "data": {
      "text/plain": [
       "date\n",
       "2015-07-03    45441\n",
       "2015-07-02    45394\n",
       "2015-07-01    44163\n",
       "2015-07-04    43804\n",
       "2015-07-08    39933\n",
       "2015-07-05    39932\n",
       "2015-07-07    33930\n",
       "2015-07-06    33311\n",
       "Name: count, dtype: int64"
      ]
     },
     "execution_count": 30,
     "metadata": {},
     "output_type": "execute_result"
    }
   ],
   "source": [
    "# 閲覧日(date)の件数を確認する\n",
    "log_df['date'].value_counts()"
   ]
  },
  {
   "cell_type": "markdown",
   "metadata": {},
   "source": [
    "### **③ データの性質**"
   ]
  },
  {
   "cell_type": "code",
   "execution_count": 31,
   "metadata": {},
   "outputs": [
    {
     "name": "stdout",
     "output_type": "stream",
     "text": [
      "2015-07-01 00:00:00 2015-07-07 00:00:00 2015-07-08 00:00:00\n"
     ]
    }
   ],
   "source": [
    "# 日付操作をするライブラリdatetimeを取り込む\n",
    "import datetime\n",
    "\n",
    "start_date = datetime.datetime(2015,7,1)\n",
    "end_date = datetime.datetime(2015,7,7)\n",
    "target_date = datetime.datetime(2015,7,8)\n",
    "print(start_date, end_date, target_date) # 追記"
   ]
  },
  {
   "cell_type": "code",
   "execution_count": 32,
   "metadata": {},
   "outputs": [
    {
     "name": "stdout",
     "output_type": "stream",
     "text": [
      "日付の差: -6 日\n",
      "7日後の日付: 2015-07-08 00:00:00\n"
     ]
    }
   ],
   "source": [
    "'''\n",
    "datetimeの解説\n",
    "\n",
    "日付や時間に関する基本的な操作ができる（日時の加算・減算、差分の計算、フォーマット変換など）\n",
    "'''\n",
    "\n",
    "# 標準ライブラリなのでインストールは不要\n",
    "import datetime\n",
    "\n",
    "# mock用の日付を設定\n",
    "mock_date1 = datetime.datetime(2015, 7, 1)\n",
    "mock_date2 = datetime.datetime(2015, 7, 7)\n",
    "\n",
    "# 日付の差を計算（mock_date1 - mock_date2）\n",
    "date_difference = mock_date1 - mock_date2\n",
    "print(\"日付の差:\", date_difference.days, \"日\")  # 出力はマイナスの値（順番に注意）\n",
    "\n",
    "# 日付の加算（mock_date1に7日間を加算）\n",
    "new_date = mock_date1 + datetime.timedelta(days=7)\n",
    "print(\"7日後の日付:\", new_date)\n"
   ]
  },
  {
   "cell_type": "code",
   "execution_count": 33,
   "metadata": {},
   "outputs": [
    {
     "name": "stdout",
     "output_type": "stream",
     "text": [
      "285975\n"
     ]
    },
    {
     "data": {
      "text/html": [
       "<div>\n",
       "<style scoped>\n",
       "    .dataframe tbody tr th:only-of-type {\n",
       "        vertical-align: middle;\n",
       "    }\n",
       "\n",
       "    .dataframe tbody tr th {\n",
       "        vertical-align: top;\n",
       "    }\n",
       "\n",
       "    .dataframe thead th {\n",
       "        text-align: right;\n",
       "    }\n",
       "</style>\n",
       "<table border=\"1\" class=\"dataframe\">\n",
       "  <thead>\n",
       "    <tr style=\"text-align: right;\">\n",
       "      <th></th>\n",
       "      <th>user_id</th>\n",
       "      <th>item_id</th>\n",
       "      <th>date</th>\n",
       "    </tr>\n",
       "  </thead>\n",
       "  <tbody>\n",
       "    <tr>\n",
       "      <th>0</th>\n",
       "      <td>4</td>\n",
       "      <td>205587</td>\n",
       "      <td>2015-07-04</td>\n",
       "    </tr>\n",
       "    <tr>\n",
       "      <th>1</th>\n",
       "      <td>4</td>\n",
       "      <td>748683</td>\n",
       "      <td>2015-07-04</td>\n",
       "    </tr>\n",
       "    <tr>\n",
       "      <th>2</th>\n",
       "      <td>4</td>\n",
       "      <td>790055</td>\n",
       "      <td>2015-07-04</td>\n",
       "    </tr>\n",
       "  </tbody>\n",
       "</table>\n",
       "</div>"
      ],
      "text/plain": [
       "   user_id  item_id       date\n",
       "0        4   205587 2015-07-04\n",
       "1        4   748683 2015-07-04\n",
       "2        4   790055 2015-07-04"
      ]
     },
     "execution_count": 33,
     "metadata": {},
     "output_type": "execute_result"
    }
   ],
   "source": [
    "# 7月1日〜7月7日までのデータを抽出する（基準日7月8日は入っていない）\n",
    "x_df = log_df[(start_date <= log_df['date']) & (log_df['date'] <= end_date)]\n",
    "print(len(x_df))\n",
    "x_df.head(3)"
   ]
  },
  {
   "cell_type": "code",
   "execution_count": 34,
   "metadata": {},
   "outputs": [
    {
     "name": "stdout",
     "output_type": "stream",
     "text": [
      "39933\n"
     ]
    },
    {
     "data": {
      "text/html": [
       "<div>\n",
       "<style scoped>\n",
       "    .dataframe tbody tr th:only-of-type {\n",
       "        vertical-align: middle;\n",
       "    }\n",
       "\n",
       "    .dataframe tbody tr th {\n",
       "        vertical-align: top;\n",
       "    }\n",
       "\n",
       "    .dataframe thead th {\n",
       "        text-align: right;\n",
       "    }\n",
       "</style>\n",
       "<table border=\"1\" class=\"dataframe\">\n",
       "  <thead>\n",
       "    <tr style=\"text-align: right;\">\n",
       "      <th></th>\n",
       "      <th>user_id</th>\n",
       "      <th>item_id</th>\n",
       "      <th>date</th>\n",
       "    </tr>\n",
       "  </thead>\n",
       "  <tbody>\n",
       "    <tr>\n",
       "      <th>103</th>\n",
       "      <td>94</td>\n",
       "      <td>603852</td>\n",
       "      <td>2015-07-08</td>\n",
       "    </tr>\n",
       "    <tr>\n",
       "      <th>104</th>\n",
       "      <td>94</td>\n",
       "      <td>28600</td>\n",
       "      <td>2015-07-08</td>\n",
       "    </tr>\n",
       "    <tr>\n",
       "      <th>105</th>\n",
       "      <td>94</td>\n",
       "      <td>987320</td>\n",
       "      <td>2015-07-08</td>\n",
       "    </tr>\n",
       "    <tr>\n",
       "      <th>106</th>\n",
       "      <td>94</td>\n",
       "      <td>109924</td>\n",
       "      <td>2015-07-08</td>\n",
       "    </tr>\n",
       "    <tr>\n",
       "      <th>107</th>\n",
       "      <td>94</td>\n",
       "      <td>886214</td>\n",
       "      <td>2015-07-08</td>\n",
       "    </tr>\n",
       "  </tbody>\n",
       "</table>\n",
       "</div>"
      ],
      "text/plain": [
       "     user_id  item_id       date\n",
       "103       94   603852 2015-07-08\n",
       "104       94    28600 2015-07-08\n",
       "105       94   987320 2015-07-08\n",
       "106       94   109924 2015-07-08\n",
       "107       94   886214 2015-07-08"
      ]
     },
     "execution_count": 34,
     "metadata": {},
     "output_type": "execute_result"
    }
   ],
   "source": [
    "# 基準日7月8日のデータを抽出する\n",
    "y_df = log_df[log_df['date'] == target_date]\n",
    "print(len(y_df))\n",
    "y_df.head()"
   ]
  },
  {
   "cell_type": "code",
   "execution_count": 35,
   "metadata": {},
   "outputs": [],
   "source": [
    "'''\n",
    "ユーザーIDをキーとし, その値として商品IDをキーに持つ辞書を格納する. \n",
    "この商品IDごとの値は, ユーザーがその商品を閲覧した際の最新度(rcen)のリストである. \n",
    "\n",
    "- rcenのリストの最小値 : ユーザーがその商品を最近閲覧した日\n",
    "- rcenのリストの長さ : ユーザーがその商品を何回閲覧したか\n",
    "'''\n",
    "\n",
    "# ユーザーIDと閲覧した商品IDに対して、最新度のリストを対応させる辞書を作成する（ただし、辞書の入れ子として作成）\n",
    "U2I2Rcens = {}\n",
    "for row in x_df.itertuples():\n",
    "    # 最新度(経過日数)の算出：基準日 - 最新の閲覧日\n",
    "    rcen = (target_date - row.date).days\n",
    "    \n",
    "    # 辞書に最新度を登録\n",
    "    # setdefaultメソッド : 指定されたキーが辞書に存在しない場合のみデフォルト値を返す\n",
    "    U2I2Rcens.setdefault(row.user_id, {})\n",
    "    U2I2Rcens[row.user_id].setdefault(row.item_id, [])\n",
    "    U2I2Rcens[row.user_id][row.item_id].append(rcen)"
   ]
  },
  {
   "cell_type": "code",
   "execution_count": 36,
   "metadata": {},
   "outputs": [
    {
     "data": {
      "text/plain": [
       "{400521: [4, 2, 2, 2, 1], 678277: [4], 687963: [2], 178138: [1]}"
      ]
     },
     "execution_count": 36,
     "metadata": {},
     "output_type": "execute_result"
    }
   ],
   "source": [
    "# ユーザーID=2497について、閲覧した商品に対する最新度のリストを確認する\n",
    "U2I2Rcens[2497]"
   ]
  },
  {
   "cell_type": "code",
   "execution_count": 37,
   "metadata": {},
   "outputs": [
    {
     "name": "stdout",
     "output_type": "stream",
     "text": [
      "204661\n"
     ]
    },
    {
     "data": {
      "text/html": [
       "<div>\n",
       "<style scoped>\n",
       "    .dataframe tbody tr th:only-of-type {\n",
       "        vertical-align: middle;\n",
       "    }\n",
       "\n",
       "    .dataframe tbody tr th {\n",
       "        vertical-align: top;\n",
       "    }\n",
       "\n",
       "    .dataframe thead th {\n",
       "        text-align: right;\n",
       "    }\n",
       "</style>\n",
       "<table border=\"1\" class=\"dataframe\">\n",
       "  <thead>\n",
       "    <tr style=\"text-align: right;\">\n",
       "      <th></th>\n",
       "      <th>user_id</th>\n",
       "      <th>item_id</th>\n",
       "      <th>rcen</th>\n",
       "      <th>freq</th>\n",
       "    </tr>\n",
       "  </thead>\n",
       "  <tbody>\n",
       "    <tr>\n",
       "      <th>0</th>\n",
       "      <td>4</td>\n",
       "      <td>205587</td>\n",
       "      <td>4</td>\n",
       "      <td>1</td>\n",
       "    </tr>\n",
       "    <tr>\n",
       "      <th>1</th>\n",
       "      <td>4</td>\n",
       "      <td>748683</td>\n",
       "      <td>4</td>\n",
       "      <td>1</td>\n",
       "    </tr>\n",
       "    <tr>\n",
       "      <th>2</th>\n",
       "      <td>4</td>\n",
       "      <td>790055</td>\n",
       "      <td>4</td>\n",
       "      <td>3</td>\n",
       "    </tr>\n",
       "    <tr>\n",
       "      <th>3</th>\n",
       "      <td>4</td>\n",
       "      <td>764638</td>\n",
       "      <td>4</td>\n",
       "      <td>2</td>\n",
       "    </tr>\n",
       "    <tr>\n",
       "      <th>4</th>\n",
       "      <td>4</td>\n",
       "      <td>492434</td>\n",
       "      <td>4</td>\n",
       "      <td>1</td>\n",
       "    </tr>\n",
       "  </tbody>\n",
       "</table>\n",
       "</div>"
      ],
      "text/plain": [
       "   user_id  item_id  rcen  freq\n",
       "0        4   205587     4     1\n",
       "1        4   748683     4     1\n",
       "2        4   790055     4     3\n",
       "3        4   764638     4     2\n",
       "4        4   492434     4     1"
      ]
     },
     "execution_count": 37,
     "metadata": {},
     "output_type": "execute_result"
    }
   ],
   "source": [
    "# ユーザーIDと商品IDに対応する最新度(rcen)と頻度(freq)のデータを作成する\n",
    "Rows1 = []\n",
    "for user_id, I2Rcens in U2I2Rcens.items():\n",
    "    for item_id, Rcens in I2Rcens.items():\n",
    "        freq = len(Rcens)\n",
    "        rcen = min(Rcens)\n",
    "        Rows1.append((user_id, item_id, rcen, freq))\n",
    "UI2RF_df = pd.DataFrame(Rows1, columns=['user_id', 'item_id', 'rcen', 'freq'])\n",
    "print(len(UI2RF_df))\n",
    "UI2RF_df.head()"
   ]
  },
  {
   "cell_type": "code",
   "execution_count": 38,
   "metadata": {},
   "outputs": [
    {
     "name": "stdout",
     "output_type": "stream",
     "text": [
      "29651\n"
     ]
    },
    {
     "data": {
      "text/html": [
       "<div>\n",
       "<style scoped>\n",
       "    .dataframe tbody tr th:only-of-type {\n",
       "        vertical-align: middle;\n",
       "    }\n",
       "\n",
       "    .dataframe tbody tr th {\n",
       "        vertical-align: top;\n",
       "    }\n",
       "\n",
       "    .dataframe thead th {\n",
       "        text-align: right;\n",
       "    }\n",
       "</style>\n",
       "<table border=\"1\" class=\"dataframe\">\n",
       "  <thead>\n",
       "    <tr style=\"text-align: right;\">\n",
       "      <th></th>\n",
       "      <th>user_id</th>\n",
       "      <th>item_id</th>\n",
       "      <th>date</th>\n",
       "      <th>pv_flag</th>\n",
       "    </tr>\n",
       "  </thead>\n",
       "  <tbody>\n",
       "    <tr>\n",
       "      <th>103</th>\n",
       "      <td>94</td>\n",
       "      <td>603852</td>\n",
       "      <td>2015-07-08</td>\n",
       "      <td>1</td>\n",
       "    </tr>\n",
       "    <tr>\n",
       "      <th>104</th>\n",
       "      <td>94</td>\n",
       "      <td>28600</td>\n",
       "      <td>2015-07-08</td>\n",
       "      <td>1</td>\n",
       "    </tr>\n",
       "    <tr>\n",
       "      <th>105</th>\n",
       "      <td>94</td>\n",
       "      <td>987320</td>\n",
       "      <td>2015-07-08</td>\n",
       "      <td>1</td>\n",
       "    </tr>\n",
       "    <tr>\n",
       "      <th>106</th>\n",
       "      <td>94</td>\n",
       "      <td>109924</td>\n",
       "      <td>2015-07-08</td>\n",
       "      <td>1</td>\n",
       "    </tr>\n",
       "    <tr>\n",
       "      <th>107</th>\n",
       "      <td>94</td>\n",
       "      <td>886214</td>\n",
       "      <td>2015-07-08</td>\n",
       "      <td>1</td>\n",
       "    </tr>\n",
       "  </tbody>\n",
       "</table>\n",
       "</div>"
      ],
      "text/plain": [
       "     user_id  item_id       date  pv_flag\n",
       "103       94   603852 2015-07-08        1\n",
       "104       94    28600 2015-07-08        1\n",
       "105       94   987320 2015-07-08        1\n",
       "106       94   109924 2015-07-08        1\n",
       "107       94   886214 2015-07-08        1"
      ]
     },
     "execution_count": 38,
     "metadata": {},
     "output_type": "execute_result"
    }
   ],
   "source": [
    "# 閲覧フラグ(pv_flag)の作成\n",
    "# drop_duplicatesメソッド : データフレーム内の重複した行を削除する\n",
    "y_df = y_df.drop_duplicates()\n",
    "print(len(y_df))\n",
    "y_df['pv_flag'] = 1\n",
    "y_df.head()"
   ]
  },
  {
   "cell_type": "code",
   "execution_count": 39,
   "metadata": {},
   "outputs": [
    {
     "name": "stdout",
     "output_type": "stream",
     "text": [
      "204661\n"
     ]
    },
    {
     "data": {
      "text/html": [
       "<div>\n",
       "<style scoped>\n",
       "    .dataframe tbody tr th:only-of-type {\n",
       "        vertical-align: middle;\n",
       "    }\n",
       "\n",
       "    .dataframe tbody tr th {\n",
       "        vertical-align: top;\n",
       "    }\n",
       "\n",
       "    .dataframe thead th {\n",
       "        text-align: right;\n",
       "    }\n",
       "</style>\n",
       "<table border=\"1\" class=\"dataframe\">\n",
       "  <thead>\n",
       "    <tr style=\"text-align: right;\">\n",
       "      <th></th>\n",
       "      <th>user_id</th>\n",
       "      <th>item_id</th>\n",
       "      <th>rcen</th>\n",
       "      <th>freq</th>\n",
       "      <th>pv_flag</th>\n",
       "    </tr>\n",
       "  </thead>\n",
       "  <tbody>\n",
       "    <tr>\n",
       "      <th>0</th>\n",
       "      <td>4</td>\n",
       "      <td>205587</td>\n",
       "      <td>4</td>\n",
       "      <td>1</td>\n",
       "      <td>0.0</td>\n",
       "    </tr>\n",
       "    <tr>\n",
       "      <th>1</th>\n",
       "      <td>4</td>\n",
       "      <td>748683</td>\n",
       "      <td>4</td>\n",
       "      <td>1</td>\n",
       "      <td>0.0</td>\n",
       "    </tr>\n",
       "    <tr>\n",
       "      <th>2</th>\n",
       "      <td>4</td>\n",
       "      <td>790055</td>\n",
       "      <td>4</td>\n",
       "      <td>3</td>\n",
       "      <td>0.0</td>\n",
       "    </tr>\n",
       "    <tr>\n",
       "      <th>3</th>\n",
       "      <td>4</td>\n",
       "      <td>764638</td>\n",
       "      <td>4</td>\n",
       "      <td>2</td>\n",
       "      <td>0.0</td>\n",
       "    </tr>\n",
       "    <tr>\n",
       "      <th>4</th>\n",
       "      <td>4</td>\n",
       "      <td>492434</td>\n",
       "      <td>4</td>\n",
       "      <td>1</td>\n",
       "      <td>0.0</td>\n",
       "    </tr>\n",
       "  </tbody>\n",
       "</table>\n",
       "</div>"
      ],
      "text/plain": [
       "   user_id  item_id  rcen  freq  pv_flag\n",
       "0        4   205587     4     1      0.0\n",
       "1        4   748683     4     1      0.0\n",
       "2        4   790055     4     3      0.0\n",
       "3        4   764638     4     2      0.0\n",
       "4        4   492434     4     1      0.0"
      ]
     },
     "execution_count": 39,
     "metadata": {},
     "output_type": "execute_result"
    }
   ],
   "source": [
    "# 閲覧フラグ(pv_flag)の追加\n",
    "UI2RFP_df = pd.merge(UI2RF_df, y_df[['user_id', 'item_id', 'pv_flag']], how='left', on=['user_id', 'item_id'])\n",
    "UI2RFP_df['pv_flag'].fillna(0, inplace=True)\n",
    "print(len(UI2RFP_df))\n",
    "UI2RFP_df.head()"
   ]
  },
  {
   "cell_type": "code",
   "execution_count": 40,
   "metadata": {},
   "outputs": [
    {
     "name": "stdout",
     "output_type": "stream",
     "text": [
      "マージ前のUI2RF_df:\n",
      "   user_id  item_id  rcen  freq\n",
      "0        1      101     2     3\n",
      "1        2      102     5     2\n",
      "2        3      103     1     1\n",
      "\n",
      "マージ前のy_df:\n",
      "   user_id  item_id  pv_flag\n",
      "0        1      101        1\n",
      "1        2      102        1\n",
      "2        4      104        1\n",
      "\n",
      "マージ後のデータフレーム:\n",
      "   user_id  item_id  rcen  freq  pv_flag\n",
      "0        1      101     2     3      1.0\n",
      "1        2      102     5     2      1.0\n",
      "2        3      103     1     1      0.0\n"
     ]
    }
   ],
   "source": [
    "'''\n",
    "pandas.mergeの解説\n",
    "\n",
    "データフレームを結合（マージ）し, 共通のキーを持つデータを一つのデータフレームにまとめることができる. \n",
    "\n",
    "\n",
    "基本構文 : \n",
    "pd.merge(left, right, how='inner', on=None, left_on=None, right_on=None, suffixes=('_x', '_y'))\n",
    "\n",
    "代表的な引数 : \n",
    "- left, right : 結合する2つのデータフレーム\n",
    "- how : 結合方法を指定('inner' : 内部結合、'left' : 左結合、'right' : 右結合、'outer' : 外部結合)\n",
    "- on : 結合するキー列を指定(leftとrightの両方に共通のキーが存在する場合)\n",
    "- left_on, right_on : 左右のデータフレームで異なるキー列名を使用する場合に指定\n",
    "- suffixes : 同じ列名がある場合のサフィックスを指定(デフォルトは('_x', '_y'))\n",
    "'''\n",
    "import pandas as pd\n",
    "\n",
    "# mock用のデータを設定\n",
    "data1 = {\n",
    "    'user_id': [1, 2, 3],\n",
    "    'item_id': [101, 102, 103],\n",
    "    'rcen': [2, 5, 1],\n",
    "    'freq': [3, 2, 1]\n",
    "}\n",
    "data2 = {\n",
    "    'user_id': [1, 2, 4],\n",
    "    'item_id': [101, 102, 104],\n",
    "    'pv_flag': [1, 1, 1]\n",
    "}\n",
    "\n",
    "# データフレームを作成\n",
    "UI2RF_df = pd.DataFrame(data1)\n",
    "y_df = pd.DataFrame(data2)\n",
    "\n",
    "# 左結合（left join）でマージ\n",
    "UI2RFP_df = pd.merge(UI2RF_df, y_df[['user_id', 'item_id', 'pv_flag']], how='left', on=['user_id', 'item_id'])\n",
    "\n",
    "# 欠損値を0に置き換え\n",
    "UI2RFP_df['pv_flag'].fillna(0, inplace=True)\n",
    "\n",
    "print(\"マージ前のUI2RF_df:\")\n",
    "print(UI2RF_df)\n",
    "print(\"\\nマージ前のy_df:\")\n",
    "print(y_df)\n",
    "print(\"\\nマージ後のデータフレーム:\")\n",
    "print(UI2RFP_df)\n"
   ]
  },
  {
   "cell_type": "code",
   "execution_count": 41,
   "metadata": {},
   "outputs": [
    {
     "name": "stdout",
     "output_type": "stream",
     "text": [
      "[1, 2, 5]\n",
      "[1, 2, 3]\n"
     ]
    }
   ],
   "source": [
    "# 最新度(rcen)と頻度(freq)の取りうる範囲を確認\n",
    "print(sorted(UI2RFP_df['rcen'].unique()))\n",
    "print(sorted(UI2RFP_df['freq'].unique()))"
   ]
  },
  {
   "cell_type": "code",
   "execution_count": 42,
   "metadata": {},
   "outputs": [
    {
     "name": "stdout",
     "output_type": "stream",
     "text": [
      "3\n"
     ]
    },
    {
     "data": {
      "text/html": [
       "<div>\n",
       "<style scoped>\n",
       "    .dataframe tbody tr th:only-of-type {\n",
       "        vertical-align: middle;\n",
       "    }\n",
       "\n",
       "    .dataframe tbody tr th {\n",
       "        vertical-align: top;\n",
       "    }\n",
       "\n",
       "    .dataframe thead th {\n",
       "        text-align: right;\n",
       "    }\n",
       "</style>\n",
       "<table border=\"1\" class=\"dataframe\">\n",
       "  <thead>\n",
       "    <tr style=\"text-align: right;\">\n",
       "      <th></th>\n",
       "      <th>user_id</th>\n",
       "      <th>item_id</th>\n",
       "      <th>rcen</th>\n",
       "      <th>freq</th>\n",
       "      <th>pv_flag</th>\n",
       "    </tr>\n",
       "  </thead>\n",
       "  <tbody>\n",
       "    <tr>\n",
       "      <th>0</th>\n",
       "      <td>1</td>\n",
       "      <td>101</td>\n",
       "      <td>2</td>\n",
       "      <td>3</td>\n",
       "      <td>1.0</td>\n",
       "    </tr>\n",
       "    <tr>\n",
       "      <th>1</th>\n",
       "      <td>2</td>\n",
       "      <td>102</td>\n",
       "      <td>5</td>\n",
       "      <td>2</td>\n",
       "      <td>1.0</td>\n",
       "    </tr>\n",
       "    <tr>\n",
       "      <th>2</th>\n",
       "      <td>3</td>\n",
       "      <td>103</td>\n",
       "      <td>1</td>\n",
       "      <td>1</td>\n",
       "      <td>0.0</td>\n",
       "    </tr>\n",
       "  </tbody>\n",
       "</table>\n",
       "</div>"
      ],
      "text/plain": [
       "   user_id  item_id  rcen  freq  pv_flag\n",
       "0        1      101     2     3      1.0\n",
       "1        2      102     5     2      1.0\n",
       "2        3      103     1     1      0.0"
      ]
     },
     "execution_count": 42,
     "metadata": {},
     "output_type": "execute_result"
    }
   ],
   "source": [
    "# 頻度(freq)が7以下になるようにデータを抽出(本書の都合でrcenと規模感を合わせるため)\n",
    "tar_df = UI2RFP_df[UI2RFP_df['freq'] <= 7]\n",
    "print(len(tar_df))\n",
    "tar_df.head()"
   ]
  },
  {
   "cell_type": "code",
   "execution_count": 43,
   "metadata": {},
   "outputs": [
    {
     "data": {
      "text/plain": [
       "2.0"
      ]
     },
     "execution_count": 43,
     "metadata": {},
     "output_type": "execute_result"
    }
   ],
   "source": [
    "# 閲覧フラグ(pv_flag)の規模感の確認\n",
    "tar_df['pv_flag'].sum()"
   ]
  },
  {
   "cell_type": "code",
   "execution_count": 44,
   "metadata": {},
   "outputs": [
    {
     "data": {
      "text/html": [
       "<div>\n",
       "<style scoped>\n",
       "    .dataframe tbody tr th:only-of-type {\n",
       "        vertical-align: middle;\n",
       "    }\n",
       "\n",
       "    .dataframe tbody tr th {\n",
       "        vertical-align: top;\n",
       "    }\n",
       "\n",
       "    .dataframe thead th {\n",
       "        text-align: right;\n",
       "    }\n",
       "</style>\n",
       "<table border=\"1\" class=\"dataframe\">\n",
       "  <thead>\n",
       "    <tr style=\"text-align: right;\">\n",
       "      <th>pv_flag</th>\n",
       "      <th>neg</th>\n",
       "      <th>pos</th>\n",
       "    </tr>\n",
       "    <tr>\n",
       "      <th>rcen</th>\n",
       "      <th></th>\n",
       "      <th></th>\n",
       "    </tr>\n",
       "  </thead>\n",
       "  <tbody>\n",
       "    <tr>\n",
       "      <th>1</th>\n",
       "      <td>1</td>\n",
       "      <td>0</td>\n",
       "    </tr>\n",
       "    <tr>\n",
       "      <th>2</th>\n",
       "      <td>0</td>\n",
       "      <td>1</td>\n",
       "    </tr>\n",
       "    <tr>\n",
       "      <th>5</th>\n",
       "      <td>0</td>\n",
       "      <td>1</td>\n",
       "    </tr>\n",
       "  </tbody>\n",
       "</table>\n",
       "</div>"
      ],
      "text/plain": [
       "pv_flag  neg  pos\n",
       "rcen             \n",
       "1          1    0\n",
       "2          0    1\n",
       "5          0    1"
      ]
     },
     "execution_count": 44,
     "metadata": {},
     "output_type": "execute_result"
    }
   ],
   "source": [
    "# 最新度(recency)に関する閲覧数の集計\n",
    "rcen_df = pd.crosstab(index=tar_df['rcen'], columns=tar_df['pv_flag'])\n",
    "rcen_df = rcen_df.rename(columns = {0:'neg', 1:'pos'})\n",
    "rcen_df"
   ]
  },
  {
   "cell_type": "code",
   "execution_count": 45,
   "metadata": {},
   "outputs": [
    {
     "data": {
      "text/html": [
       "<div>\n",
       "<style scoped>\n",
       "    .dataframe tbody tr th:only-of-type {\n",
       "        vertical-align: middle;\n",
       "    }\n",
       "\n",
       "    .dataframe tbody tr th {\n",
       "        vertical-align: top;\n",
       "    }\n",
       "\n",
       "    .dataframe thead th {\n",
       "        text-align: right;\n",
       "    }\n",
       "</style>\n",
       "<table border=\"1\" class=\"dataframe\">\n",
       "  <thead>\n",
       "    <tr style=\"text-align: right;\">\n",
       "      <th>pv_flag</th>\n",
       "      <th>neg</th>\n",
       "      <th>pos</th>\n",
       "      <th>N</th>\n",
       "      <th>prob</th>\n",
       "    </tr>\n",
       "    <tr>\n",
       "      <th>rcen</th>\n",
       "      <th></th>\n",
       "      <th></th>\n",
       "      <th></th>\n",
       "      <th></th>\n",
       "    </tr>\n",
       "  </thead>\n",
       "  <tbody>\n",
       "    <tr>\n",
       "      <th>1</th>\n",
       "      <td>1</td>\n",
       "      <td>0</td>\n",
       "      <td>1</td>\n",
       "      <td>0.0</td>\n",
       "    </tr>\n",
       "    <tr>\n",
       "      <th>2</th>\n",
       "      <td>0</td>\n",
       "      <td>1</td>\n",
       "      <td>1</td>\n",
       "      <td>1.0</td>\n",
       "    </tr>\n",
       "    <tr>\n",
       "      <th>5</th>\n",
       "      <td>0</td>\n",
       "      <td>1</td>\n",
       "      <td>1</td>\n",
       "      <td>1.0</td>\n",
       "    </tr>\n",
       "  </tbody>\n",
       "</table>\n",
       "</div>"
      ],
      "text/plain": [
       "pv_flag  neg  pos  N  prob\n",
       "rcen                      \n",
       "1          1    0  1   0.0\n",
       "2          0    1  1   1.0\n",
       "5          0    1  1   1.0"
      ]
     },
     "execution_count": 45,
     "metadata": {},
     "output_type": "execute_result"
    },
    {
     "data": {
      "image/png": "[encoded data removed]",
      "text/plain": [
       "<Figure size 640x480 with 1 Axes>"
      ]
     },
     "metadata": {},
     "output_type": "display_data"
    }
   ],
   "source": [
    "# 最新度(recency)に関する再閲覧確率の算出と確認\n",
    "rcen_df['N'] = rcen_df['neg'] + rcen_df['pos']\n",
    "rcen_df['prob'] = rcen_df['pos'] / rcen_df['N']\n",
    "rcen_df[['prob']].plot.bar()\n",
    "rcen_df"
   ]
  },
  {
   "cell_type": "code",
   "execution_count": 46,
   "metadata": {},
   "outputs": [
    {
     "data": {
      "text/html": [
       "<div>\n",
       "<style scoped>\n",
       "    .dataframe tbody tr th:only-of-type {\n",
       "        vertical-align: middle;\n",
       "    }\n",
       "\n",
       "    .dataframe tbody tr th {\n",
       "        vertical-align: top;\n",
       "    }\n",
       "\n",
       "    .dataframe thead th {\n",
       "        text-align: right;\n",
       "    }\n",
       "</style>\n",
       "<table border=\"1\" class=\"dataframe\">\n",
       "  <thead>\n",
       "    <tr style=\"text-align: right;\">\n",
       "      <th>pv_flag</th>\n",
       "      <th>neg</th>\n",
       "      <th>pos</th>\n",
       "    </tr>\n",
       "    <tr>\n",
       "      <th>freq</th>\n",
       "      <th></th>\n",
       "      <th></th>\n",
       "    </tr>\n",
       "  </thead>\n",
       "  <tbody>\n",
       "    <tr>\n",
       "      <th>1</th>\n",
       "      <td>1</td>\n",
       "      <td>0</td>\n",
       "    </tr>\n",
       "    <tr>\n",
       "      <th>2</th>\n",
       "      <td>0</td>\n",
       "      <td>1</td>\n",
       "    </tr>\n",
       "    <tr>\n",
       "      <th>3</th>\n",
       "      <td>0</td>\n",
       "      <td>1</td>\n",
       "    </tr>\n",
       "  </tbody>\n",
       "</table>\n",
       "</div>"
      ],
      "text/plain": [
       "pv_flag  neg  pos\n",
       "freq             \n",
       "1          1    0\n",
       "2          0    1\n",
       "3          0    1"
      ]
     },
     "execution_count": 46,
     "metadata": {},
     "output_type": "execute_result"
    }
   ],
   "source": [
    "# 頻度(frequency)に関する閲覧数の集計\n",
    "freq_df = pd.crosstab(index=tar_df['freq'], columns=tar_df['pv_flag'])\n",
    "freq_df = freq_df.rename(columns = {0:'neg', 1:'pos'})\n",
    "freq_df"
   ]
  },
  {
   "cell_type": "code",
   "execution_count": 47,
   "metadata": {},
   "outputs": [
    {
     "data": {
      "text/html": [
       "<div>\n",
       "<style scoped>\n",
       "    .dataframe tbody tr th:only-of-type {\n",
       "        vertical-align: middle;\n",
       "    }\n",
       "\n",
       "    .dataframe tbody tr th {\n",
       "        vertical-align: top;\n",
       "    }\n",
       "\n",
       "    .dataframe thead th {\n",
       "        text-align: right;\n",
       "    }\n",
       "</style>\n",
       "<table border=\"1\" class=\"dataframe\">\n",
       "  <thead>\n",
       "    <tr style=\"text-align: right;\">\n",
       "      <th>pv_flag</th>\n",
       "      <th>neg</th>\n",
       "      <th>pos</th>\n",
       "      <th>N</th>\n",
       "      <th>prob</th>\n",
       "    </tr>\n",
       "    <tr>\n",
       "      <th>freq</th>\n",
       "      <th></th>\n",
       "      <th></th>\n",
       "      <th></th>\n",
       "      <th></th>\n",
       "    </tr>\n",
       "  </thead>\n",
       "  <tbody>\n",
       "    <tr>\n",
       "      <th>1</th>\n",
       "      <td>1</td>\n",
       "      <td>0</td>\n",
       "      <td>1</td>\n",
       "      <td>0.0</td>\n",
       "    </tr>\n",
       "    <tr>\n",
       "      <th>2</th>\n",
       "      <td>0</td>\n",
       "      <td>1</td>\n",
       "      <td>1</td>\n",
       "      <td>1.0</td>\n",
       "    </tr>\n",
       "    <tr>\n",
       "      <th>3</th>\n",
       "      <td>0</td>\n",
       "      <td>1</td>\n",
       "      <td>1</td>\n",
       "      <td>1.0</td>\n",
       "    </tr>\n",
       "  </tbody>\n",
       "</table>\n",
       "</div>"
      ],
      "text/plain": [
       "pv_flag  neg  pos  N  prob\n",
       "freq                      \n",
       "1          1    0  1   0.0\n",
       "2          0    1  1   1.0\n",
       "3          0    1  1   1.0"
      ]
     },
     "execution_count": 47,
     "metadata": {},
     "output_type": "execute_result"
    },
    {
     "data": {
      "image/png": "[encoded data removed]",
      "text/plain": [
       "<Figure size 640x480 with 1 Axes>"
      ]
     },
     "metadata": {},
     "output_type": "display_data"
    }
   ],
   "source": [
    "# 頻度(frequency)に関する再閲覧確率の算出と確認\n",
    "freq_df['N'] = freq_df['neg'] + freq_df['pos']\n",
    "freq_df['prob'] = freq_df['pos'] / freq_df['N']\n",
    "freq_df[['prob']].plot.bar()\n",
    "freq_df"
   ]
  }
 ],
 "metadata": {
  "kernelspec": {
   "display_name": "Python 3",
   "language": "python",
   "name": "python3"
  },
  "language_info": {
   "codemirror_mode": {
    "name": "ipython",
    "version": 3
   },
   "file_extension": ".py",
   "mimetype": "text/x-python",
   "name": "python",
   "nbconvert_exporter": "python",
   "pygments_lexer": "ipython3",
   "version": "3.11.3"
  }
 },
 "nbformat": 4,
 "nbformat_minor": 4
}
